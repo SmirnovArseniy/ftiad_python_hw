{
 "cells": [
  {
   "cell_type": "markdown",
   "metadata": {},
   "source": [
    "Всем привет! \n",
    "\n",
    "Это ваше первое домашнее задание))\n",
    "\n",
    "Списывать нельзя, гуглить можно) \n",
    "\n",
    "Что надо помнить: пишите код красиво, контролируйте код-стайл, нормальную структуру, импорты и все, что мы говорили на занятиях.\n",
    "\n",
    "Дедлайн: пятница 17 ноября в 23:59\n",
    "\n",
    "Решения на почту - skvortsovg@yandex.ru\n",
    "\n",
    "Пожалуйста, напишите в теме письма так: **ФТиАД23: python_дз1 Фамилия Имя**"
   ]
  },
  {
   "cell_type": "markdown",
   "metadata": {},
   "source": [
    "### Задача 1 (расстояние между точками на земле)\n",
    "\n",
    "Напишите программу, в которой пользователь будет вводить координаты двух точек на Земле (широту и долготу) в градусах. На выходе должно получиться расстояние между этими точками при следовании по кратчайшему пути по поверхности планеты.\n",
    "\n"
   ]
  },
  {
   "cell_type": "code",
   "execution_count": 1,
   "metadata": {},
   "outputs": [],
   "source": [
    "import numpy as np\n",
    "\n",
    "def rasstoyaniye(a: tuple(), b: tuple()) -> float:\n",
    "    return f'{round(np.arccos(np.sin(a[0]) * np.sin(b[0]) + np.cos(a[0]) * np.cos(b[0]) * np.cos(a[1] - b[1])) * 6371, 3)} км'"
   ]
  },
  {
   "cell_type": "code",
   "execution_count": 2,
   "metadata": {},
   "outputs": [
    {
     "data": {
      "text/plain": [
       "'0.001 км'"
      ]
     },
     "execution_count": 2,
     "metadata": {},
     "output_type": "execute_result"
    }
   ],
   "source": [
    "rasstoyaniye((20.5128128, 33.2193), (20.512813, 33.2193))"
   ]
  },
  {
   "cell_type": "markdown",
   "metadata": {},
   "source": [
    "### Задача 2 (максимальная сумма)\n",
    "\n",
    "Ввести в столбик последовательность целых (положительных и отрицательных) чисел, не равных нулю; в конце этой последовательности стоит 0. Вывести наибольшую сумму последовательно идущих элементов этой последовательности (не менее одного).\n",
    "\n"
   ]
  },
  {
   "cell_type": "code",
   "execution_count": 6,
   "metadata": {},
   "outputs": [
    {
     "name": "stdout",
     "output_type": "stream",
     "text": [
      "4\n",
      "5\n",
      "-1\n",
      "8\n",
      "0\n",
      "16.0\n"
     ]
    }
   ],
   "source": [
    "import numpy as np\n",
    "\n",
    "numbers = []\n",
    "num = float(input())\n",
    "numbers.append(num)\n",
    "while num != 0:\n",
    "    num = float(input())\n",
    "    numbers.append(num)\n",
    "big_one = - np.inf\n",
    "potetial_big_one = 0\n",
    " \n",
    "for i in range(0, len(numbers)):\n",
    "    potetial_big_one = potetial_big_one + numbers[i]\n",
    "    if big_one < potetial_big_one:\n",
    "        big_one = potetial_big_one\n",
    " \n",
    "    if potetial_big_one < 0:\n",
    "        potetial_big_one = 0\n",
    "\n",
    "print(big_one)"
   ]
  },
  {
   "cell_type": "markdown",
   "metadata": {},
   "source": [
    "### Задача 3 (сумма кубов)\n",
    "\n",
    "Ввести натуральное число N и вывести, сколько существует различных пар натуральных чисел A и B: A³+B³=N (с точностью до перестановки).  Вещественные операции (например, кубический корень) рекомендуется использовать как можно реже."
   ]
  },
  {
   "cell_type": "code",
   "execution_count": 54,
   "metadata": {},
   "outputs": [
    {
     "name": "stdout",
     "output_type": "stream",
     "text": [
      "9\n",
      "2\n"
     ]
    }
   ],
   "source": [
    "N = int(input())\n",
    "cnt = 0\n",
    "A = 1\n",
    "B = 1\n",
    "\n",
    "while A * A * A <= N:\n",
    "    B_cub = N - A**3\n",
    "    if B_cub > 0:\n",
    "        while B * B * B <= B_cub:\n",
    "            if B**3 == B_cub:\n",
    "                cnt += 1\n",
    "                break\n",
    "            B += 1\n",
    "    A += 1\n",
    "    B = 0\n",
    "print(cnt)"
   ]
  },
  {
   "cell_type": "markdown",
   "metadata": {},
   "source": [
    "### Задача 4 (Разложение на множители)\n",
    "Ввести произвольное натуральное число, не превосходящее 1000000000 \n",
    "\n",
    "Вывести (через «*») все его разложения на натуральные сомножители, превосходящие 1, без учёта перестановок. Сомножители в каждом разложении и сами разложения (как последовательности) при выводе должны быть упорядочены по возрастанию. Само число также считается разложением."
   ]
  },
  {
   "cell_type": "code",
   "execution_count": 55,
   "metadata": {},
   "outputs": [],
   "source": [
    "def razlog(num):\n",
    "    d = 2\n",
    "    a = 0\n",
    "    while d * d <= num:\n",
    "        if num%d == 0:\n",
    "            print (d, '*', end=\" \")\n",
    "            razlog(num // d)\n",
    "            a = 1\n",
    "        d += 1\n",
    "    \n",
    "    if not a:\n",
    "        print(num)"
   ]
  },
  {
   "cell_type": "code",
   "execution_count": 56,
   "metadata": {},
   "outputs": [
    {
     "name": "stdout",
     "output_type": "stream",
     "text": [
      "2 * 2 * 2 * 2\n",
      "4 * 2 * 2\n"
     ]
    }
   ],
   "source": [
    "razlog(16)"
   ]
  },
  {
   "cell_type": "markdown",
   "metadata": {},
   "source": [
    "### Задача 5 (Переворот числа)\n",
    "Пусть на вход дается челое 32-х битное число (может быть и отрицательное)\n",
    "\n",
    "Необходимо вернуть его перевернутую версию, например, для числа -123 ответом будет -321, а для числа -1 будет 1, а для 10101010 - 101010\n",
    "\n",
    "Пользоваться строковыми методами *нельзя*"
   ]
  },
  {
   "cell_type": "code",
   "execution_count": 18,
   "metadata": {},
   "outputs": [],
   "source": [
    "def perevorot(a):\n",
    "    l = len(str(abs(a)))\n",
    "    if a >= 0:\n",
    "        b = 1\n",
    "    else:\n",
    "        b = -1\n",
    "    c = 0\n",
    "    a = abs(a)\n",
    "    for i in range(l-1, -1, -1):\n",
    "        c += a // (10**i) * 10**(l-1 - i)\n",
    "        a %= (10**i)\n",
    "    return b * c"
   ]
  },
  {
   "cell_type": "code",
   "execution_count": 21,
   "metadata": {},
   "outputs": [
    {
     "data": {
      "text/plain": [
       "-1"
      ]
     },
     "execution_count": 21,
     "metadata": {},
     "output_type": "execute_result"
    }
   ],
   "source": [
    "perevorot(-1000)"
   ]
  },
  {
   "cell_type": "markdown",
   "metadata": {},
   "source": [
    "### Задача 6 (Перевод числа в римской записи а арабскую):\n",
    "\n",
    "На вход подается строка, представляющая натуральное число в римской записи (из символов I, V, X, C, L, M). Требуется представить его в арабской записи. Подробнее про арабские числа можно почитать на [википедии](https://ru.wikipedia.org/wiki/%D0%A0%D0%B8%D0%BC%D1%81%D0%BA%D0%B8%D0%B5_%D1%86%D0%B8%D1%84%D1%80%D1%8B)"
   ]
  },
  {
   "cell_type": "code",
   "execution_count": 85,
   "metadata": {},
   "outputs": [],
   "source": [
    "def saint_rome(roman):\n",
    "    digit = {\"I\":1,\"V\":5,\"X\":10,\"L\":50,\"C\":100,\"D\":500,\"M\":1000}\n",
    "    arabic = 0\n",
    "    for d in range(len(roman)):\n",
    "        try:\n",
    "            if digit[roman[d]]<digit[roman[d+1]]:\n",
    "                arabic-=digit[roman[d]]\n",
    "            else:\n",
    "                arabic+=digit[roman[d]]\n",
    "        except IndexError:\n",
    "            arabic+=digit[roman[d]]\n",
    "    return arabic"
   ]
  },
  {
   "cell_type": "code",
   "execution_count": 87,
   "metadata": {},
   "outputs": [
    {
     "data": {
      "text/plain": [
       "34"
      ]
     },
     "execution_count": 87,
     "metadata": {},
     "output_type": "execute_result"
    }
   ],
   "source": [
    "roman2arabic('XXXIV')"
   ]
  },
  {
   "cell_type": "markdown",
   "metadata": {},
   "source": [
    "### Задача 7 (Группировка итератора)\n",
    "\n",
    "Напишите итератор (вспомните про **yield**), которая возвращает строку длины N\n",
    "\n",
    "Напишите вспомогательную функцию, которая будет принимать результат итератора и комбинировать его в чанки заданной длины\n"
   ]
  },
  {
   "cell_type": "code",
   "execution_count": 72,
   "metadata": {},
   "outputs": [],
   "source": [
    "import random, string\n",
    "\n",
    "def my_string_generator(N):\n",
    "    letters = string.ascii_lowercase\n",
    "    return ''.join(random.choice(letters) for i in range(N))\n",
    "\n",
    "def chanker(itarable, chunk_size=2) -> tuple:\n",
    "    return zip(*[iter(itarable)]*chunk_size)"
   ]
  },
  {
   "cell_type": "markdown",
   "metadata": {},
   "source": [
    "### Задача 8 (Декоратор-ретрай)\n",
    "\n",
    "Напишите функцию, которая принимает число N и с вероятностью 1/N возвращает строку, а в остальных случаях порождает исключение.\n",
    "\n",
    "Напишите декоратор, который пытается выполнить функцию заданное кол-во раз и задекорируйте ее.\n"
   ]
  },
  {
   "cell_type": "code",
   "execution_count": 57,
   "metadata": {},
   "outputs": [],
   "source": [
    "def run_test(iters):\n",
    "    def actual_decorator(func):\n",
    "        \n",
    "        def wrapper(*args, **kwargs):\n",
    "            for i in range(iters):\n",
    "                return_value = func(*args, **kwargs)\n",
    "            return return_value\n",
    "        return wrapper\n",
    "    return actual_decorator\n",
    "\n",
    "\n",
    "@run_test(iters=10)\n",
    "def get_string(N: int):\n",
    "    try:\n",
    "        if random.random() < 1/N:\n",
    "            return \"test_str\"\n",
    "        else: raise ValueError\n",
    "    except ValueError as err:\n",
    "        print(err.args)"
   ]
  },
  {
   "cell_type": "markdown",
   "metadata": {},
   "source": [
    "### Задание 9 (Использование паттера Singleton)\n",
    "\n",
    "Найдите на github примеры кода (5 штук), где применяется паттерн singleton. У репозитория, в которым вы ищите, должно быть более 10 звездочек.\n",
    "\n",
    "Ниже вставьте примеры такого кода (5 штук) и напишите где именно используется паттерн и зачем"
   ]
  },
  {
   "cell_type": "code",
   "execution_count": 88,
   "metadata": {},
   "outputs": [],
   "source": [
    "#не нашел"
   ]
  },
  {
   "cell_type": "markdown",
   "metadata": {},
   "source": [
    "### Задача 10 (Решатель судоку)\n",
    "\n",
    "Напишите программу, которая принимает матричку 9*9 (список списков), которая представляет собой кроссворд-судоку.\n",
    "В местах, куда надо вставить значения - -**1**\n",
    "\n",
    "И напишите функцию (функции), которые решают судоку и выводят результат"
   ]
  },
  {
   "cell_type": "code",
   "execution_count": 71,
   "metadata": {},
   "outputs": [],
   "source": [
    "#основано на решении из интернета\n",
    "\n",
    "import numpy as np\n",
    "def findNextCellToFill(grid, i, j):\n",
    "        for x in range(i,9):\n",
    "                for y in range(j,9):\n",
    "                        if grid[x][y] == 0:\n",
    "                                return x,y\n",
    "        for x in range(0,9):\n",
    "                for y in range(0,9):\n",
    "                        if grid[x][y] == 0:\n",
    "                                return x,y\n",
    "        return -1,-1\n",
    "\n",
    "def isValid(grid, i, j, e):\n",
    "        rowOk = all([e != grid[i][x] for x in range(9)])\n",
    "        if rowOk:\n",
    "                columnOk = all([e != grid[x][j] for x in range(9)])\n",
    "                if columnOk:\n",
    "                        # finding the top left x,y co-ordinates of the section containing the i,j cell\n",
    "                        secTopX, secTopY = 3 *(i//3), 3 *(j//3) #floored quotient should be used here. \n",
    "                        for x in range(secTopX, secTopX+3):\n",
    "                                for y in range(secTopY, secTopY+3):\n",
    "                                        if grid[x][y] == e:\n",
    "                                                return False\n",
    "                        return True\n",
    "        return False\n",
    "\n",
    "def solveSudoku(grid, i=0, j=0):\n",
    "        i,j = findNextCellToFill(grid, i, j)\n",
    "        if i == -1:\n",
    "                return True\n",
    "        for e in range(1,10):\n",
    "                if isValid(grid,i,j,e):\n",
    "                        grid[i][j] = e\n",
    "                        if solveSudoku(grid, i, j):\n",
    "                                return True\n",
    "                        # Undo the current cell for backtracking\n",
    "                        grid[i][j] = 0\n",
    "        return False"
   ]
  },
  {
   "cell_type": "markdown",
   "metadata": {},
   "source": [
    "### Задача 11 (сколько гостей было в отеле одномоментно)\n",
    "Представьте, что вы - менеджер отеля и хотите знать, сколько гостей было в отеле максимально за весь период.\n",
    "\n",
    "Каждый гость характеризуется тюплом (day_start, day_end), который показывает, когда гость заселился и выселился из отеля. Имейте в виду, что время заселения всегда больше, чем время выселения, то есть гости (1, 6) и (6, 8) не пересекались друг с другом.\n",
    "\n",
    "Напишите функцию, которая позволяет определить, сколько гостей в отеле было максимально. Входные данные вышей функции - список из тюплов.\n",
    "\n",
    "Примеры: \n",
    "\n",
    "    1. [(0, 1), (1, 2), (0, 3)] -> 2\n",
    "    2. [(10, 20), (5, 7), (5, 20), (20, 21)] -> 3"
   ]
  },
  {
   "cell_type": "code",
   "execution_count": 66,
   "metadata": {},
   "outputs": [],
   "source": [
    "def max_gostey(g: list):\n",
    "    table = {}\n",
    "    for i in g:\n",
    "        check_in, check_out = i[0], i[1]\n",
    "        if check_in not in table:\n",
    "            table[check_in] = 0\n",
    "        \n",
    "        table[check_in] += 1\n",
    "        otpusk = check_out - check_in\n",
    "\n",
    "        while otpusk >= 2:\n",
    "            j = check_in + otpusk - 1\n",
    "            if j not in table:\n",
    "                table[j] = 0\n",
    "            \n",
    "            table[j] += 1\n",
    "            otpusk -=1\n",
    "    return max(table.values())"
   ]
  },
  {
   "cell_type": "code",
   "execution_count": 69,
   "metadata": {},
   "outputs": [
    {
     "data": {
      "text/plain": [
       "2"
      ]
     },
     "execution_count": 69,
     "metadata": {},
     "output_type": "execute_result"
    }
   ],
   "source": [
    "max_gostey([(0, 1), (1, 2), (0, 3)])"
   ]
  },
  {
   "cell_type": "markdown",
   "metadata": {},
   "source": [
    "### Задача 12 (проверка на центр отрезка)\n",
    "\n",
    "Пусть у вас есть 3 числа - первые два задают начало и конец отрезка, а третье - предполагаемую середину. Все вводные значения - float\n",
    "\n",
    "Необходимо написать функцию, которая проверяет, является ли третье число серединой отрезка.\n"
   ]
  },
  {
   "cell_type": "code",
   "execution_count": 37,
   "metadata": {},
   "outputs": [],
   "source": [
    "def seredina(a: float, b: float, c: float):\n",
    "    return a + b == c + c"
   ]
  },
  {
   "cell_type": "code",
   "execution_count": 39,
   "metadata": {},
   "outputs": [
    {
     "data": {
      "text/plain": [
       "True"
      ]
     },
     "execution_count": 39,
     "metadata": {},
     "output_type": "execute_result"
    }
   ],
   "source": [
    "seredina(1.1, 3.3, 2.2)"
   ]
  },
  {
   "cell_type": "markdown",
   "metadata": {},
   "source": [
    "### Задача 13 (классы)\n",
    "\n",
    "Это задача дает большой простор для креатива. Вам надо написать класс (или классы), где вы продемонстрируйте владение такими штуками, как проперти, классметод, статикметод, магические методы (достаточно показать владение несколькими из них)."
   ]
  },
  {
   "cell_type": "code",
   "execution_count": 70,
   "metadata": {},
   "outputs": [],
   "source": [
    "class secret_Complex(object):\n",
    "    \n",
    "    real, imaginary = 0, 0\n",
    "    \n",
    "    N = 100000000000000\n",
    "    \n",
    "    def __init__(self, real, imaginary):\n",
    "        self.real = real\n",
    "        self.imaginary = imaginary\n",
    "\n",
    "    def __add__(self, no):\n",
    "        if no <= N:\n",
    "            self.real = self.real + no.real\n",
    "            self.imaginary = self.imaginary + no.imaginary\n",
    "            return self\n",
    "        return 'no'\n",
    "\n",
    "    def __sub__(self, no):\n",
    "        if no <= N:\n",
    "            self.real = self.real - no.real\n",
    "            self.imaginary = self.imaginary - no.imaginary\n",
    "            return self\n",
    "        return 'no'\n",
    "\n",
    "    @classmethod\n",
    "    def __mul__(self, no):\n",
    "        if no <= N:\n",
    "            self.real = self.real * no.real\n",
    "            self.imaginary = self.imaginary * no.imaginary\n",
    "            return self\n",
    "        return 'no'\n",
    "\n",
    "    @classmethod\n",
    "    def __truediv__(self, no):\n",
    "        if no <= N:\n",
    "            self.real = self.real / no.real\n",
    "            self.imaginary = self.imaginary / no.imaginary\n",
    "            return self\n",
    "        return 'no'\n",
    "    \n",
    "    @staticmethod\n",
    "    def max_com(self, N):\n",
    "        return f'Максимальное число, с которым может работать {self.real} + {self.imaginary} это {N}'\n",
    "    \n",
    "    @property\n",
    "    def chto_mozhno(self):\n",
    "        return 'Складывать, вычитать, умножать, делить'\n",
    "\n",
    "    def __str__(self):\n",
    "        if self.imaginary == 0:\n",
    "            result = \"%.2f+0.00i\" % (self.real)\n",
    "        elif self.real == 0:\n",
    "            if self.imaginary >= 0:\n",
    "                result = \"0.00+%.2fi\" % (self.imaginary)\n",
    "            else:\n",
    "                result = \"0.00-%.2fi\" % (abs(self.imaginary))\n",
    "        elif self.imaginary > 0:\n",
    "            result = \"%.2f+%.2fi\" % (self.real, self.imaginary)\n",
    "        else:\n",
    "            result = \"%.2f-%.2fi\" % (self.real, abs(self.imaginary))\n",
    "        return result"
   ]
  },
  {
   "cell_type": "code",
   "execution_count": null,
   "metadata": {},
   "outputs": [],
   "source": []
  }
 ],
 "metadata": {
  "kernelspec": {
   "display_name": "Python 3",
   "language": "python",
   "name": "python3"
  },
  "language_info": {
   "codemirror_mode": {
    "name": "ipython",
    "version": 3
   },
   "file_extension": ".py",
   "mimetype": "text/x-python",
   "name": "python",
   "nbconvert_exporter": "python",
   "pygments_lexer": "ipython3",
   "version": "3.8.5"
  }
 },
 "nbformat": 4,
 "nbformat_minor": 5
}
